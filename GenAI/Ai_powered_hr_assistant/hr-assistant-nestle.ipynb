{
 "cells": [
  {
   "cell_type": "markdown",
   "id": "01876f68",
   "metadata": {},
   "source": [
    "# AI Powered HR Assistant for Nestle Policy "
   ]
  },
  {
   "cell_type": "markdown",
   "id": "c0261f38",
   "metadata": {},
   "source": [
    "### 1. Import Important Packages "
   ]
  },
  {
   "cell_type": "code",
   "execution_count": null,
   "id": "ef705a48",
   "metadata": {},
   "outputs": [],
   "source": [
    "import os\n",
    "import openai\n",
    "from dotenv import load_dotenv\n",
    "\n",
    "from langchain.document_loaders import PyPDFLoader\n",
    "\n",
    "from langchain_openai import OpenAIEmbeddings\n",
    "from langchain_chroma import Chroma\n",
    "\n",
    "from langchain_openai import ChatOpenAI\n",
    "\n",
    "from langchain.prompts import PromptTemplate\n",
    "\n",
    "from langchain.chains import RetrievalQA"
   ]
  },
  {
   "cell_type": "markdown",
   "id": "57612f43",
   "metadata": {},
   "source": [
    "### 2. Setup OpenAI API calling Environment"
   ]
  },
  {
   "cell_type": "code",
   "execution_count": null,
   "id": "b0896697",
   "metadata": {},
   "outputs": [
    {
     "name": "stdout",
     "output_type": "stream",
     "text": [
      "OpenAI API key loaded successfully.\n"
     ]
    }
   ],
   "source": [
    "# Setup open api Key\n",
    "# Load environment variables from .env file if present\n",
    "load_dotenv()\n",
    "\n",
    "# Get the OpenAI API key from environment variable\n",
    "openai.api_key = os.getenv(\"OPENAI_API_KEY\")\n",
    "\n",
    "print(\"OpenAI API key loaded successfully.\")"
   ]
  },
  {
   "cell_type": "markdown",
   "id": "ee291ca5",
   "metadata": {},
   "source": [
    "### 3. Load and process Nestle Policy data "
   ]
  },
  {
   "cell_type": "code",
   "execution_count": null,
   "id": "6461259c",
   "metadata": {},
   "outputs": [
    {
     "name": "stdout",
     "output_type": "stream",
     "text": [
      "Loaded 8 documents from the PDF.\n",
      "First page preview: Policy\n",
      "Mandatory\n",
      "September  2012\n",
      "The Nestlé  \n",
      "Human Resources Policy...\n"
     ]
    }
   ],
   "source": [
    "pdf_path = './Dataset/the_nestle_hr_policy_pdf_2012.pdf'\n",
    "loader = PyPDFLoader(pdf_path)\n",
    "documents = loader.load()\n",
    "\n",
    "print(f\"Loaded {len(documents)} documents from the PDF.\")\n",
    "print(f\"First page preview: {documents[0].page_content[:2000]}...\")"
   ]
  },
  {
   "cell_type": "markdown",
   "id": "3f048bfd",
   "metadata": {},
   "source": [
    "### 4. Vector Store initialization and Embeddings generation --"
   ]
  },
  {
   "cell_type": "code",
   "execution_count": null,
   "id": "64cf6b15",
   "metadata": {},
   "outputs": [],
   "source": [
    "# Intialize OpenAI Embeddings\n",
    "embeddings = OpenAIEmbeddings()"
   ]
  },
  {
   "cell_type": "code",
   "execution_count": null,
   "id": "bdf11a77",
   "metadata": {},
   "outputs": [],
   "source": [
    "# Create or load the Chroma vector store using Chroma\n",
    "vector_store = Chroma.from_documents(\n",
    "    documents, \n",
    "    embeddings, \n",
    "    persist_directory=\"./chroma_db\"\n",
    "    )"
   ]
  },
  {
   "cell_type": "code",
   "execution_count": null,
   "id": "b2a903da",
   "metadata": {},
   "outputs": [
    {
     "name": "stdout",
     "output_type": "stream",
     "text": [
      "Vector store created and embeddings generated.\n",
      "Number of documents in vector store: 48\n"
     ]
    }
   ],
   "source": [
    "print(\"Vector store created and embeddings generated.\")\n",
    "print(f\"Number of documents in vector store: {vector_store._collection.count()}\")"
   ]
  },
  {
   "cell_type": "markdown",
   "id": "bcfc28dd",
   "metadata": {},
   "source": [
    "### 5. Intialize LLM from OpenAI"
   ]
  },
  {
   "cell_type": "code",
   "execution_count": null,
   "id": "29a855ed",
   "metadata": {},
   "outputs": [],
   "source": [
    "# Initialize ChatOpenAI model\n",
    "llm = ChatOpenAI(model=\"gpt-3.5-turbo\", temperature=0, max_tokens=500)"
   ]
  },
  {
   "cell_type": "code",
   "execution_count": null,
   "id": "57dab9dc",
   "metadata": {},
   "outputs": [
    {
     "name": "stdout",
     "output_type": "stream",
     "text": [
      "llm ChatOpenAI model loaded\n"
     ]
    }
   ],
   "source": [
    "print(\"llm ChatOpenAI model loaded\")"
   ]
  },
  {
   "cell_type": "code",
   "execution_count": null,
   "id": "4c3dc511",
   "metadata": {},
   "outputs": [],
   "source": [
    "# Create a retrieval-based QA chain\n",
    "retriever = vector_store.as_retriever(search_type=\"similarity\", search_kwargs={\"k\":3})"
   ]
  },
  {
   "cell_type": "code",
   "execution_count": null,
   "id": "d3b1af76",
   "metadata": {},
   "outputs": [
    {
     "name": "stdout",
     "output_type": "stream",
     "text": [
      "Retrieval-based QA chain created successfully.\n",
      "Retriever configured to return top 3 similar documents.\n",
      "Retriever search type: similarity\n",
      "Retriever details: tags=['Chroma', 'OpenAIEmbeddings'] vectorstore=<langchain_chroma.vectorstores.Chroma object at 0x74f8eafba600> search_kwargs={'k': 3}\n",
      "Vector store details: <langchain_chroma.vectorstores.Chroma object at 0x74f8eafba600>\n",
      "Retriever : <bound method BaseRetriever.get_relevant_documents of VectorStoreRetriever(tags=['Chroma', 'OpenAIEmbeddings'], vectorstore=<langchain_chroma.vectorstores.Chroma object at 0x74f8eafba600>, search_kwargs={'k': 3})>\n"
     ]
    }
   ],
   "source": [
    "print(\"Retrieval-based QA chain created successfully.\")\n",
    "print(f\"Retriever configured to return top {retriever.search_kwargs['k']} similar documents.\")\n",
    "print(f\"Retriever search type: {retriever.search_type}\")\n",
    "print(f\"Retriever details: {retriever}\")\n",
    "print(f\"Vector store details: {vector_store}\")\n",
    "print(f\"Retriever : {retriever.get_relevant_documents}\")"
   ]
  },
  {
   "cell_type": "markdown",
   "id": "5dffe6d6",
   "metadata": {},
   "source": [
    "### 6. Create PROMPT Template for Custom Prompt for Chat Assistant Model for NESTLE ~"
   ]
  },
  {
   "cell_type": "code",
   "execution_count": null,
   "id": "ed849a5a",
   "metadata": {},
   "outputs": [],
   "source": [
    "template = \"\"\"\n",
    "\n",
    "Your are Helpful AI assistant for NESTLE HR policies. Your role is to help Employee to provide them accurate information in human understandable format. \n",
    "If you can not find the answer from the provided context, simply state that \"I don't have that information\". Do not make up an answer.\n",
    "\n",
    "Use the following context to answer the question - \n",
    "Context = {context}\n",
    "\n",
    "Question = {question}\n",
    "\n",
    "HR Assistant Reponse:\n",
    "\"\"\"\n",
    "\n"
   ]
  },
  {
   "cell_type": "code",
   "execution_count": null,
   "id": "67b04acc",
   "metadata": {},
   "outputs": [],
   "source": [
    "PROMPT = PromptTemplate(\n",
    "    template=template, \n",
    "    input_variables=[\"context\", \"question\"]\n",
    ")"
   ]
  },
  {
   "cell_type": "code",
   "execution_count": null,
   "id": "b62e46d1",
   "metadata": {},
   "outputs": [],
   "source": [
    "# Create Retrieval QA Chain\n",
    "\n",
    "qa_chain = RetrievalQA.from_chain_type(\n",
    "    llm=llm, \n",
    "    chain_type=\"stuff\", \n",
    "    retriever=retriever, \n",
    "    chain_type_kwargs={\"prompt\": PROMPT},\n",
    "    return_source_documents=True\n",
    ")"
   ]
  },
  {
   "cell_type": "markdown",
   "id": "df6dc212",
   "metadata": {},
   "source": [
    "### 7. Verify & Test HR Assistant Response ~"
   ]
  },
  {
   "cell_type": "code",
   "execution_count": 15,
   "id": "6ecace65",
   "metadata": {},
   "outputs": [
    {
     "name": "stdout",
     "output_type": "stream",
     "text": [
      "Testing HR Assistant with sample questions:\n",
      "\n",
      "Q1: What is Nestlé's policy on employee training and development?\n",
      "A1: Nestlé's policy on employee training and development emphasizes a culture of continuous learning and growth. The company determines training priorities and encourages employees at all levels to upgrade their knowledge and skills. Training and development actions are shared responsibilities between employees, line managers, and Human Resources. Experience and on-the-job training are primary sources of learning, with managers guiding and coaching employees to succeed in their current positions. Additionally, Nestlé offers a comprehensive range of training activities and methodologies to support everyone's learning and growth. Corporate leadership programs are also available to develop and retain qualified management. Practices such as lateral professional development, extension of responsibilities, and cross-functional teams are encouraged to acquire additional skills and enrich job content. Overall, Nestlé values continuous improvement, sharing knowledge, and providing opportunities for employees to develop their skills in the long-term.\n",
      "\n",
      "--------------------------------------------------------------------------------\n",
      "Q2: How does Nestlé handle performance management?\n",
      "A2: Nestlé handles performance management by empowering line managers to establish business needs and corresponding people requirements. HR managers provide professional guidance to line managers to optimize the performance of employees and ensure exemplary working conditions. Performance management is a shared responsibility aimed at delivering superior business results.\n",
      "\n",
      "--------------------------------------------------------------------------------\n",
      "Q3: What are the total rewards offered by Nestlé?\n",
      "A3: The total rewards offered by Nestlé include Fixed Pay, Variable Pay, Benefits, Personal Growth and Development, and Work Life Environment. These elements are designed to provide employees with value, trust, recognition, opportunities to learn and grow, and a positive working experience within a diverse global company.\n",
      "\n",
      "--------------------------------------------------------------------------------\n"
     ]
    }
   ],
   "source": [
    "# Test function for the HR assistant\n",
    "def test_hr_assistant(question):\n",
    "    \"\"\"Test function to query the HR assistant\"\"\"\n",
    "    try:\n",
    "        result = qa_chain({\"query\": question})\n",
    "        return result[\"result\"]\n",
    "    except Exception as e:\n",
    "        return f\"Error: {str(e)}\"\n",
    "\n",
    "# Test with sample questions\n",
    "test_questions = [\n",
    "    \"What is Nestlé's policy on employee training and development?\",\n",
    "    \"How does Nestlé handle performance management?\",\n",
    "    \"What are the total rewards offered by Nestlé?\"\n",
    "]\n",
    "\n",
    "print(\"Testing HR Assistant with sample questions:\\n\")\n",
    "for i, question in enumerate(test_questions, 1):\n",
    "    print(f\"Q{i}: {question}\")\n",
    "    answer = test_hr_assistant(question)\n",
    "    print(f\"A{i}: {answer}\\n\")\n",
    "    print(\"-\" * 80)"
   ]
  },
  {
   "cell_type": "markdown",
   "id": "96888499",
   "metadata": {},
   "source": [
    "### 8. Create Gradio Interface for QA with HR Assistance in Nestle Company "
   ]
  },
  {
   "cell_type": "code",
   "execution_count": 19,
   "id": "5de1eb07",
   "metadata": {},
   "outputs": [],
   "source": [
    "import gradio as gr"
   ]
  },
  {
   "cell_type": "code",
   "execution_count": 20,
   "id": "19882482",
   "metadata": {},
   "outputs": [
    {
     "name": "stdout",
     "output_type": "stream",
     "text": [
      "Gradio interface configuration complete!\n"
     ]
    }
   ],
   "source": [
    "def hr_chatbot(message, history):\n",
    "    \"\"\"\n",
    "    Main chatbot function for Gradio interface\n",
    "    \"\"\"\n",
    "    try:\n",
    "        # Get response from the QA chain\n",
    "        result = qa_chain({\"query\": message})\n",
    "        response = result[\"result\"]\n",
    "        \n",
    "        # Add some context about the source\n",
    "        if result.get(\"source_documents\"):\n",
    "            response += \"\\n\\n📋 *Based on Nestlé HR Policy Document (2012)*\"\n",
    "        \n",
    "        return response\n",
    "    \n",
    "    except Exception as e:\n",
    "        return f\"I apologize, but I encountered an error while processing your question: {str(e)}. Please try rephrasing your question or contact HR directly for assistance.\"\n",
    "\n",
    "# Create the Gradio interface\n",
    "def create_gradio_interface():\n",
    "    \"\"\"\n",
    "    Create and configure the Gradio chatbot interface\n",
    "    \"\"\"\n",
    "    \n",
    "    # Custom CSS for better styling\n",
    "    custom_css = \"\"\"\n",
    "    .gradio-container {\n",
    "        font-family: 'Arial', sans-serif;\n",
    "    }\n",
    "    .chat-message {\n",
    "        padding: 10px;\n",
    "        margin: 5px;\n",
    "        border-radius: 10px;\n",
    "    }\n",
    "    \"\"\"\n",
    "    \n",
    "    # Create the chatbot interface\n",
    "    with gr.Blocks(css=custom_css, title=\"Nestlé HR Assistant\") as demo:\n",
    "        \n",
    "        # Header\n",
    "        gr.Markdown(\n",
    "            \"\"\"\n",
    "            # 🏢 Nestlé AI-Powered HR Assistant\n",
    "            \n",
    "            Welcome to your intelligent HR assistant! I can help you find information about:\n",
    "            - 📚 HR policies and procedures\n",
    "            - 💼 Employment conditions and benefits\n",
    "            - 🎯 Performance management and development\n",
    "            - 🌟 Training and learning opportunities\n",
    "            - 🤝 Employee relations and workplace culture\n",
    "            \n",
    "            Ask me anything about Nestlé's HR policies!\n",
    "            \"\"\"\n",
    "        )\n",
    "        \n",
    "        # Chatbot interface\n",
    "        chatbot = gr.ChatInterface(\n",
    "            hr_chatbot,\n",
    "            title=\"HR Policy Assistant\",\n",
    "            description=\"Ask questions about Nestlé's HR policies and get instant answers!\",\n",
    "            examples=[\n",
    "                \"What is Nestlé's approach to employee development?\",\n",
    "                \"How does Nestlé handle performance evaluations?\",\n",
    "                \"What are the total rewards offered to employees?\",\n",
    "                \"What is Nestlé's policy on work-life balance?\",\n",
    "                \"How does Nestlé support diversity and inclusion?\",\n",
    "                \"What training opportunities are available?\"\n",
    "            ],\n",
    "            # retry_btn=\"🔄 Retry\",\n",
    "            # undo_btn=\"↩️ Undo\",\n",
    "            # clear_btn=\"🗑️ Clear Chat\"\n",
    "        )\n",
    "        \n",
    "        # Footer\n",
    "        gr.Markdown(\n",
    "            \"\"\"\n",
    "            ---\n",
    "            **Note:** This assistant is based on Nestlé's HR Policy document from 2012. \n",
    "            For the most current policies or specific situations, please contact your HR department directly.\n",
    "            \n",
    "            *Powered by OpenAI GPT-3.5 Turbo and LangChain*\n",
    "            \"\"\"\n",
    "        )\n",
    "    \n",
    "    return demo\n",
    "\n",
    "print(\"Gradio interface configuration complete!\")"
   ]
  },
  {
   "cell_type": "code",
   "execution_count": 21,
   "id": "d3c96fd7",
   "metadata": {},
   "outputs": [
    {
     "name": "stdout",
     "output_type": "stream",
     "text": [
      "🚀 Launching Nestlé HR Assistant...\n"
     ]
    },
    {
     "name": "stderr",
     "output_type": "stream",
     "text": [
      "/home/neogen/PROJECTS/python-env/SRC/IITK-AIML/end-proj/.venv/lib/python3.12/site-packages/gradio/chat_interface.py:348: UserWarning: The 'tuples' format for chatbot messages is deprecated and will be removed in a future version of Gradio. Please set type='messages' instead, which uses openai-style 'role' and 'content' keys.\n",
      "  self.chatbot = Chatbot(\n"
     ]
    },
    {
     "name": "stdout",
     "output_type": "stream",
     "text": [
      "* Running on local URL:  http://0.0.0.0:7860\n",
      "* Running on public URL: https://58a5d7aa726b8d51a6.gradio.live\n",
      "\n",
      "This share link expires in 1 week. For free permanent hosting and GPU upgrades, run `gradio deploy` from the terminal in the working directory to deploy to Hugging Face Spaces (https://huggingface.co/spaces)\n"
     ]
    },
    {
     "data": {
      "text/html": [
       "<div><iframe src=\"https://58a5d7aa726b8d51a6.gradio.live\" width=\"100%\" height=\"500\" allow=\"autoplay; camera; microphone; clipboard-read; clipboard-write;\" frameborder=\"0\" allowfullscreen></iframe></div>"
      ],
      "text/plain": [
       "<IPython.core.display.HTML object>"
      ]
     },
     "metadata": {},
     "output_type": "display_data"
    },
    {
     "name": "stdout",
     "output_type": "stream",
     "text": [
      "Keyboard interruption in main thread... closing server.\n",
      "Killing tunnel 0.0.0.0:7860 <> https://58a5d7aa726b8d51a6.gradio.live\n",
      "\n",
      "✅ HR Assistant is now running!\n",
      "📱 Access the interface through the provided URL\n",
      "🔗 Share the public link with your team members\n"
     ]
    }
   ],
   "source": [
    "# Create and launch the Gradio interface\n",
    "if __name__ == \"__main__\":\n",
    "    print(\"🚀 Launching Nestlé HR Assistant...\")\n",
    "    \n",
    "    # Create the interface\n",
    "    demo = create_gradio_interface()\n",
    "    \n",
    "    # Launch the application\n",
    "    demo.launch(\n",
    "        share=True,  # Creates a public link\n",
    "        server_name=\"0.0.0.0\",  # Makes it accessible from other devices\n",
    "        server_port=7860,  # Default Gradio port\n",
    "        show_error=True,  # Show detailed error messages\n",
    "        debug=True  # Enable debug mode\n",
    "    )\n",
    "    \n",
    "    print(\"\\n✅ HR Assistant is now running!\")\n",
    "    print(\"📱 Access the interface through the provided URL\")\n",
    "    print(\"🔗 Share the public link with your team members\")"
   ]
  }
 ],
 "metadata": {
  "kernelspec": {
   "display_name": ".venv",
   "language": "python",
   "name": "python3"
  },
  "language_info": {
   "codemirror_mode": {
    "name": "ipython",
    "version": 3
   },
   "file_extension": ".py",
   "mimetype": "text/x-python",
   "name": "python",
   "nbconvert_exporter": "python",
   "pygments_lexer": "ipython3",
   "version": "3.12.3"
  }
 },
 "nbformat": 4,
 "nbformat_minor": 5
}
